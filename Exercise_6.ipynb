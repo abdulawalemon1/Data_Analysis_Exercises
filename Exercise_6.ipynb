{
 "cells": [
  {
   "cell_type": "markdown",
   "metadata": {},
   "source": [
    "### Name: Emon Abdul Awal(艾沂蒙)\n",
    "### ID: 188801232\n",
    "### Class: Sofware Engineering\n",
    "### Subject: Data Analysis"
   ]
  },
  {
   "cell_type": "markdown",
   "metadata": {},
   "source": [
    "A box plot or boxplot is a method for graphically depicting the statistical distribution of numerical data, \n",
    "which received its name from its box shape. \n",
    "It is widely applied in many fields and most commonly seen in quality management \n",
    "though the making of plots is a bit complicated. \n",
    "Box plot was first introduced by the American mathematician John W. Tukey in 1977, \n",
    "which comprises the visual display of the maximum, minimum, median, bottom quartile and upper quartile of a group of data-- from Wikipedia.\n",
    "\n",
    "\n",
    "\n",
    "Copy the following data to the excel worksheet (file named score. xlsx) :\n",
    "\n",
    "\tMaths English Python Music Physics Chemistry \tPE\n",
    "#### Wang\t 88 \t64 \t96 \t85 \t90\t 81 \t95\n",
    "#### Ma\t 92\t 99 \t95 \t94 \t92 \t94\t 90\n",
    "#### Liu \t91\t 87\t 99\t 95 \t95 \t92 \t70\n",
    "#### Qian \t78 \t99 \t75\t 81\t 83 \t88 \t92\n",
    "#### Meng \t88 \t78 \t98 \t84 \t70 \t95\t 98\n",
    "#### Song \t100 \t95 \t100 \t92 \t98\t 95\t 65"
   ]
  },
  {
   "cell_type": "markdown",
   "metadata": {},
   "source": [
    "Use the read_excel () method of the pandas to read the data and store them into a DataFrame, \n",
    "and draw the corresponding box plot. Observe the box plot and consider the following questions:"
   ]
  },
  {
   "cell_type": "code",
   "execution_count": 24,
   "metadata": {},
   "outputs": [
    {
     "data": {
      "text/html": [
       "<div>\n",
       "<style scoped>\n",
       "    .dataframe tbody tr th:only-of-type {\n",
       "        vertical-align: middle;\n",
       "    }\n",
       "\n",
       "    .dataframe tbody tr th {\n",
       "        vertical-align: top;\n",
       "    }\n",
       "\n",
       "    .dataframe thead th {\n",
       "        text-align: right;\n",
       "    }\n",
       "</style>\n",
       "<table border=\"1\" class=\"dataframe\">\n",
       "  <thead>\n",
       "    <tr style=\"text-align: right;\">\n",
       "      <th></th>\n",
       "      <th>Unnamed: 0</th>\n",
       "      <th>Maths</th>\n",
       "      <th>English</th>\n",
       "      <th>Python</th>\n",
       "      <th>Music</th>\n",
       "      <th>Physics</th>\n",
       "      <th>Chemistry</th>\n",
       "      <th>PE</th>\n",
       "    </tr>\n",
       "  </thead>\n",
       "  <tbody>\n",
       "    <tr>\n",
       "      <th>0</th>\n",
       "      <td>Wang</td>\n",
       "      <td>88</td>\n",
       "      <td>64</td>\n",
       "      <td>96</td>\n",
       "      <td>85</td>\n",
       "      <td>90</td>\n",
       "      <td>81</td>\n",
       "      <td>95</td>\n",
       "    </tr>\n",
       "    <tr>\n",
       "      <th>1</th>\n",
       "      <td>Ma</td>\n",
       "      <td>92</td>\n",
       "      <td>99</td>\n",
       "      <td>95</td>\n",
       "      <td>94</td>\n",
       "      <td>92</td>\n",
       "      <td>94</td>\n",
       "      <td>90</td>\n",
       "    </tr>\n",
       "    <tr>\n",
       "      <th>2</th>\n",
       "      <td>Liu</td>\n",
       "      <td>91</td>\n",
       "      <td>87</td>\n",
       "      <td>99</td>\n",
       "      <td>5</td>\n",
       "      <td>95</td>\n",
       "      <td>92</td>\n",
       "      <td>70</td>\n",
       "    </tr>\n",
       "    <tr>\n",
       "      <th>3</th>\n",
       "      <td>Qian</td>\n",
       "      <td>78</td>\n",
       "      <td>99</td>\n",
       "      <td>75</td>\n",
       "      <td>81</td>\n",
       "      <td>83</td>\n",
       "      <td>88</td>\n",
       "      <td>92</td>\n",
       "    </tr>\n",
       "    <tr>\n",
       "      <th>4</th>\n",
       "      <td>Meng</td>\n",
       "      <td>88</td>\n",
       "      <td>78</td>\n",
       "      <td>98</td>\n",
       "      <td>84</td>\n",
       "      <td>70</td>\n",
       "      <td>95</td>\n",
       "      <td>98</td>\n",
       "    </tr>\n",
       "  </tbody>\n",
       "</table>\n",
       "</div>"
      ],
      "text/plain": [
       "  Unnamed: 0  Maths  English  Python  Music  Physics  Chemistry  PE\n",
       "0       Wang     88       64      96     85       90         81  95\n",
       "1         Ma     92       99      95     94       92         94  90\n",
       "2        Liu     91       87      99      5       95         92  70\n",
       "3       Qian     78       99      75     81       83         88  92\n",
       "4       Meng     88       78      98     84       70         95  98"
      ]
     },
     "execution_count": 24,
     "metadata": {},
     "output_type": "execute_result"
    }
   ],
   "source": [
    "\n",
    "import pandas as pd\n",
    "scores = pd.read_excel('scores.xlsx')\n",
    "scores.head()"
   ]
  },
  {
   "cell_type": "code",
   "execution_count": 25,
   "metadata": {},
   "outputs": [
    {
     "data": {
      "text/plain": [
       "<AxesSubplot:>"
      ]
     },
     "execution_count": 25,
     "metadata": {},
     "output_type": "execute_result"
    },
    {
     "data": {
      "image/png": "[encoded data removed]",
      "text/plain": [
       "<Figure size 432x288 with 1 Axes>"
      ]
     },
     "metadata": {
      "needs_background": "light"
     },
     "output_type": "display_data"
    }
   ],
   "source": [
    "scores.boxplot()"
   ]
  },
  {
   "cell_type": "markdown",
   "metadata": {},
   "source": [
    "1. Which courses have a relatively concentrated distribution of results and which are more scattered? Trough what do you observe this? "
   ]
  },
  {
   "cell_type": "markdown",
   "metadata": {},
   "source": [
    "#### Answer:\n",
    "Maths, Python and Chemistry courses have a relatively concentrated distribution of results while English and PE are more scattered, which is told by the lengths of the boxes."
   ]
  },
  {
   "cell_type": "markdown",
   "metadata": {},
   "source": [
    "2. Which courses have average distribution (symmetry) of results? Through what did you observe this?\n"
   ]
  },
  {
   "cell_type": "markdown",
   "metadata": {},
   "source": [
    "#### Answer:\n",
    "Among the seven courses, Python has the most even distribution of scores while PE the most uneven, which is told by the (2)distances between the median to the upper quartile and the lower quartile.\n"
   ]
  },
  {
   "cell_type": "markdown",
   "metadata": {},
   "source": [
    "3. Which courses have got better overall results and which got poor? For what did you observe this?"
   ]
  },
  {
   "cell_type": "markdown",
   "metadata": {},
   "source": [
    "#### Answer: \n",
    "Python has the best overall situation while Maths, English and Music are not so satisfactory, which is told by the position of the median. After the analysis of data, we find that averagely 3 students in these 3 courses failed to reach 90 points. Although the mean value of the course PE, judging from the chart, is not too high, the overall situation is good. From data analysis we can find out that 2 students scored low but 4 students exceeded 90 points."
   ]
  },
  {
   "cell_type": "markdown",
   "metadata": {},
   "source": [
    "\n",
    "4. In which courses there are scores inconsistent with the overall situation? For what did you observe this?\n"
   ]
  },
  {
   "cell_type": "markdown",
   "metadata": {},
   "source": [
    "#### Answer:\n",
    "There are averagely 2, 1 and 1 deviation point (outliers) in Maths, Python and Physics. The box plot displays these deviation values in separate position, which shows in the first place there is an anomly in the data and secondly avoids the shifting of the overall characteristics due to this tiny amount of deviated data."
   ]
  }
 ],
 "metadata": {
  "interpreter": {
   "hash": "5b1fb8c0ea4a0d2cbc39d0e840268797aa2ffedce31dc6d430bc5ba78b5b5c69"
  },
  "kernelspec": {
   "display_name": "Python 3.9.7 64-bit",
   "language": "python",
   "name": "python3"
  },
  "language_info": {
   "codemirror_mode": {
    "name": "ipython",
    "version": 3
   },
   "file_extension": ".py",
   "mimetype": "text/x-python",
   "name": "python",
   "nbconvert_exporter": "python",
   "pygments_lexer": "ipython3",
   "version": "3.9.7"
  },
  "orig_nbformat": 4
 },
 "nbformat": 4,
 "nbformat_minor": 2
}
