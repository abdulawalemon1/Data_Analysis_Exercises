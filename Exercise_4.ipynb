{
 "cells": [
  {
   "cell_type": "markdown",
   "metadata": {},
   "source": [
    "### Name: Emon Abdul Awal(艾沂蒙)\n",
    "### ID: 188801232\n",
    "### Class: Sofware Engineering\n",
    "### Subject: Data Analysis"
   ]
  },
  {
   "cell_type": "markdown",
   "metadata": {},
   "source": [
    "Define the function twonums_sum(n, lst), finds in the list lst \n",
    "whether there is a sum of two numbers equal to n, if any, \n",
    "returns a subscript of two numbers, otherwise returns -1. \n",
    "For an ordered list that does not contain duplicate numbers \n",
    "[1, 4, 5, 6, 7, 8, 9, 10, 11, 12, 13, 15, 18, 19, 20, 21, 29, 34, 54, 65 ], \n",
    "input n from the keyboard, \n",
    "call the function twonums_sum() to output the subscripts of the two numbers \n",
    "that satisfy the condition (you only need to find one set and ensure one of them to be as small as possible), \n",
    "and output \"not found\" if all the numbers do not satisfy the condition. \n",
    "\n",
    "    input sample:\n",
    "\n",
    "    17\n",
    "\n",
    "    output sample: \n",
    "\n",
    "    (1, 10) "
   ]
  },
  {
   "cell_type": "code",
   "execution_count": 1,
   "metadata": {},
   "outputs": [
    {
     "name": "stdout",
     "output_type": "stream",
     "text": [
      "(1, 10)\n"
     ]
    }
   ],
   "source": [
    "def twonums_sum(n, lst):\n",
    "     d = {}\n",
    "     for i in range(len(lst)):\n",
    "          d[lst[i]] = i    # create number-subscript pair\n",
    "     for i in range(len(lst)):\n",
    "          if n - lst[i] in d:\n",
    "               return i, d[n-lst[i]]             \n",
    "     return -1\n",
    "\n",
    "\n",
    "lst = [1, 4, 5, 6, 7, 8, 9, 10, 11, 12, 13, 15, 18, 19, 20, 21, 29, 34, 54, 65]\n",
    "n = int(input())\n",
    "result = twonums_sum(n, lst)\n",
    "if result == -1:\n",
    "    print(\"not found\")\n",
    "else:\n",
    "    print(result)"
   ]
  }
 ],
 "metadata": {
  "interpreter": {
   "hash": "5b1fb8c0ea4a0d2cbc39d0e840268797aa2ffedce31dc6d430bc5ba78b5b5c69"
  },
  "kernelspec": {
   "display_name": "Python 3.9.7 64-bit",
   "language": "python",
   "name": "python3"
  },
  "language_info": {
   "codemirror_mode": {
    "name": "ipython",
    "version": 3
   },
   "file_extension": ".py",
   "mimetype": "text/x-python",
   "name": "python",
   "nbconvert_exporter": "python",
   "pygments_lexer": "ipython3",
   "version": "3.9.7"
  },
  "orig_nbformat": 4
 },
 "nbformat": 4,
 "nbformat_minor": 2
}
