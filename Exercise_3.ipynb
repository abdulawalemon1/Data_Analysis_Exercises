{
 "cells": [
  {
   "cell_type": "markdown",
   "metadata": {},
   "source": [
    "### Name: Emon Abdul Awal(艾沂蒙)\n",
    "### ID: 188801232\n",
    "### Class: Sofware Engineering\n",
    "### Subject: Data Analysis"
   ]
  },
  {
   "cell_type": "markdown",
   "metadata": {},
   "source": [
    "1. For the string = 'My moral standing  is: 0.98765', please extract the number string and print its float data.\n"
   ]
  },
  {
   "cell_type": "code",
   "execution_count": 2,
   "metadata": {},
   "outputs": [
    {
     "name": "stdout",
     "output_type": "stream",
     "text": [
      "0.98765\n"
     ]
    }
   ],
   "source": [
    "string = 'My moral standing  is: 0.98765'\n",
    "moral_str = string.split(\":\")[1]\n",
    "result = float(moral_str)\n",
    "print(result)\n"
   ]
  },
  {
   "cell_type": "markdown",
   "metadata": {},
   "source": [
    "2. Input several words separated by spaces from the keyboard, arrange all words upside down and output, keep the order of words unchanged. [test data and output]"
   ]
  },
  {
   "cell_type": "code",
   "execution_count": 6,
   "metadata": {},
   "outputs": [
    {
     "name": "stdout",
     "output_type": "stream",
     "text": [
      "the new string is: Emon Awal Abdul\n"
     ]
    }
   ],
   "source": [
    "s = input('Enter a string: ') \n",
    "s_temp = s.split()     # return a list\n",
    "s_temp.reverse()    \n",
    "result = ' '.join(s_temp)\n",
    "print('the new string is:', result)\n"
   ]
  },
  {
   "cell_type": "markdown",
   "metadata": {},
   "source": [
    "3. Define the function move_substr(s, flag, n), shifts the string s to the left or right by n (for example, for the string abcde12345, according to the requirement of flag (1 means left shift looply, 2 means right shift looply). The result of shifting two characters to the left is cde12345ab, and the result of shifting two characters to the right is 45abcde123). The result returns the moved string. If n exceeds the length of the string, the result returns -1. In the __main__ module, input the string , the left and right shift markers, and the number of digits moved. Call the move_substr() function to output the moved string if the number of movements is reasonable, otherwise output \"the n is too large\" ."
   ]
  },
  {
   "cell_type": "code",
   "execution_count": 9,
   "metadata": {},
   "outputs": [
    {
     "name": "stdout",
     "output_type": "stream",
     "text": [
      "cde12345ab\n"
     ]
    }
   ],
   "source": [
    "def moveSubstr(s, flag, n):\n",
    "    if n > len(s):\n",
    "        return -1\n",
    "    else:\n",
    "        if flag == 1:\n",
    "            return s[n:] + s[:n]\n",
    "        else:\n",
    "            return s[-n:]+ s[:-n]\n",
    "\n",
    "if __name__ == \"__main__\":\n",
    "    s, flag, n = input(\"enter the 'string,flag,n': \").split(',')\n",
    "    result = moveSubstr(s, int(flag), int(n))\n",
    "    if result != -1:\n",
    "        print(result)\n",
    "    else:\n",
    "        print('the n is too large')\n",
    "        "
   ]
  },
  {
   "cell_type": "markdown",
   "metadata": {},
   "source": [
    "4. Read an integer n( between 1-9) from input, delete any number in the range 1-100 which contains n or can be divided by n. For example, if n is 6, then numbers such as 6, 16 shall be deleted because they have 6 literally. Also when n is 6, numbers that can be divided by 6 such as 12, 18 shall be deleted too. Print all the numbers after deleting numbers meeting our requires, 10 number in each line."
   ]
  },
  {
   "cell_type": "code",
   "execution_count": 10,
   "metadata": {},
   "outputs": [
    {
     "name": "stdout",
     "output_type": "stream",
     "text": [
      "The result string: \n",
      "1,2,3,4,5,7,8,9,10,11\n",
      "13,14,15,17,19,20,21,22,23,25\n",
      "27,28,29,31,32,33,34,35,37,38\n",
      "39,40,41,43,44,45,47,49,50,51\n",
      "52,53,55,57,58,59,70,71,73,74\n",
      "75,77,79,80,81,82,83,85,87,88\n",
      "89,91,92,93,94,95,97,98,99,100\n"
     ]
    }
   ],
   "source": [
    "n = int(input(\"Enter the number: \"))\n",
    "count = 0\n",
    "new_str = ''\n",
    "print(\"The result string: \")\n",
    "for i in range(101):\n",
    "    s = str(i)\n",
    "    if i % n != 0 and s.find(str(n)) == -1:\n",
    "        new_str = new_str + s + ','     \n",
    "        count += 1\n",
    "        if count % 10 == 0:\n",
    "            print(new_str[:-1])\n",
    "            new_str = ''\n",
    "if len(new_str) > 0:\n",
    "    print(new_str[:-1])"
   ]
  },
  {
   "cell_type": "markdown",
   "metadata": {},
   "source": [
    "5. Use random function to generate 500 integers in the range of 1-100, store them into a file called random.txt, one number in each line. Program to find out the mode and print it ( the definition of mode is the number which appears the most times)."
   ]
  },
  {
   "cell_type": "code",
   "execution_count": 16,
   "metadata": {},
   "outputs": [
    {
     "name": "stdout",
     "output_type": "stream",
     "text": [
      "4\n"
     ]
    }
   ],
   "source": [
    "import random\n",
    "\n",
    "with open('random.txt', 'w+') as fp:\n",
    "    for i in range(500):\n",
    "         fp.write(str(random.randint(1, 100)))\n",
    "         fp.write('\\n')\n",
    "    fp.seek(0)\n",
    "    nums = fp.readlines()\t\n",
    "nums = [num.strip() for num in nums]\n",
    "setNums = set(nums)\n",
    "lst = [0] * 101\n",
    "for num in setNums:\n",
    "    c = nums.count(num)\n",
    "    lst[int(num)] = c\n",
    "for i in range(len(lst)):\n",
    "    if lst[i] == max(lst):\n",
    "        print(i)\n"
   ]
  },
  {
   "cell_type": "markdown",
   "metadata": {},
   "source": [
    "6. File artical.txt contains an article in English (please create the file by yourself and put any English article you picked in it). Assume the article only contains ‘,’, ‘.’, ‘!’, ‘?’ and ‘...’ as punctuations, make a program to find out the longest word and print it."
   ]
  },
  {
   "cell_type": "code",
   "execution_count": 1,
   "metadata": {},
   "outputs": [
    {
     "name": "stdout",
     "output_type": "stream",
     "text": [
      "punctuations\n"
     ]
    }
   ],
   "source": [
    "with open('article.txt') as fp:\n",
    "    data = fp.read()\n",
    "words = data.split()\n",
    "lst = []\n",
    "for word in words:\n",
    "    if word[-3:] == '...':\n",
    "        word = word[:-3]\n",
    "        lst.append(word)\n",
    "    if word[-1] in ',.?!':\n",
    "        word = word[:-1]\n",
    "        lst.append(word)\n",
    "result = sorted(lst, key = len, reverse = True)\n",
    "maxlen = len(result[0])\n",
    "# There may be more than one longest word in the article and the words may be same.\n",
    "for word in set(result):\n",
    "    n = len(word)\n",
    "    if n == maxlen:\n",
    "        print(word)\n"
   ]
  },
  {
   "cell_type": "markdown",
   "metadata": {},
   "source": [
    "7. Make a program（Hint: you can use insert() method of list）.\n",
    "\n",
    "(1) Create a file named \"Blowing in the wind.txt\", the content is as below:\n",
    "\n",
    "How many roads must a man walk down\n",
    "Before they call him a man\n",
    "How many seas must a white dove sail\n",
    "Before she sleeps in the sand\n",
    "How many times must the cannon balls fly\n",
    "Before they're forever banned\n",
    "The answer my friend is blowing in the wind\n",
    "The answer is blowing in the wind\n",
    "\n",
    "\n",
    "\n",
    "(2) Insert the song name \"Blowin' in the wind\" into the head of the file \n",
    "\n",
    "(3) Insert the singer name \"Bob Dylan\" after the song name\n",
    "\n",
    "(4) add a string \"1962 by Warner Bros. Inc.\" into the end of the file\n",
    "\n",
    "(5) print the file\n"
   ]
  },
  {
   "cell_type": "code",
   "execution_count": 3,
   "metadata": {},
   "outputs": [
    {
     "name": "stdout",
     "output_type": "stream",
     "text": [
      "Blowin' in the wind\n",
      "Bob Dylan\n",
      "1962 by Warner Bros. Inc.\n"
     ]
    }
   ],
   "source": [
    "def insert_line(lines):\n",
    "    lines.insert(0, \"Blowin' in the wind\\n\")\n",
    "    lines.insert(1, \"Bob Dylan\\n\")\n",
    "    lines.append(\"1962 by Warner Bros. Inc.\")\n",
    "    return ''.join(lines)\n",
    "\n",
    "with open('Blowing in the wind.txt', 'r+') as f:\n",
    "    lines = f.readlines()\n",
    "    string = insert_line(lines)\n",
    "    print(string)\n",
    "    f.seek(0)\n",
    "    f.write(string)"
   ]
  }
 ],
 "metadata": {
  "interpreter": {
   "hash": "5b1fb8c0ea4a0d2cbc39d0e840268797aa2ffedce31dc6d430bc5ba78b5b5c69"
  },
  "kernelspec": {
   "display_name": "Python 3.9.7 64-bit",
   "language": "python",
   "name": "python3"
  },
  "language_info": {
   "codemirror_mode": {
    "name": "ipython",
    "version": 3
   },
   "file_extension": ".py",
   "mimetype": "text/x-python",
   "name": "python",
   "nbconvert_exporter": "python",
   "pygments_lexer": "ipython3",
   "version": "3.9.7"
  },
  "orig_nbformat": 4
 },
 "nbformat": 4,
 "nbformat_minor": 2
}
